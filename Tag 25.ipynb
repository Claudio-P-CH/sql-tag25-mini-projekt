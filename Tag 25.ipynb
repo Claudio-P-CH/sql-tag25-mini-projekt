{
 "cells": [
  {
   "cell_type": "code",
   "execution_count": null,
   "id": "a53f333b",
   "metadata": {},
   "outputs": [],
   "source": [
    "###Tag 26 und wir wollen heute in SQLite3 JOINs anwenden können. \n",
    "#Da wir uns nicht so gut zurecht finde aktuell suche ich ein gutes video und\n",
    "#arbeite es durch und löse nachher die Übungsaufgaben und dann sollte es sitzen ^^\n"
   ]
  },
  {
   "cell_type": "code",
   "execution_count": null,
   "id": "74cd549f",
   "metadata": {},
   "outputs": [
    {
     "name": "stdout",
     "output_type": "stream",
     "text": [
      "Anna Müllu hat bestellt am -2023\n",
      "Anna Müllu hat bestellt am -2020\n",
      "Olaf Scholz hat bestellt am -2006\n"
     ]
    }
   ],
   "source": [
    "import sqlite3\n",
    "with sqlite3.connect('migros.db') as conn: \n",
    "    m = conn.cursor() \n",
    "    #m.execute(\"\"\"CREATE TABLE IF NOT EXISTS kunden ( \n",
    "    #          id INTEGER,\n",
    "    #          name TEXT,\n",
    "    #          stadt TEXT \n",
    "    #)\"\"\")\n",
    "    #m.execute(\"\"\"CREATE TABLE IF NOT EXISTS bestellungen (\n",
    "    #          id INTEGER,\n",
    "    #          kunden_id INTEGER,\n",
    "    #          datum INTEGER\n",
    "\n",
    "    #)\"\"\")\n",
    "    #m.execute(\"\"\"CREATE TABLE IF NOT EXISTS bestellpositionen( \n",
    "    #          id INTEGER,\n",
    "    #          bestellung_id INTEGER,\n",
    "    #          produkt TEXT,\n",
    "    #          menge INTEGER,\n",
    "    #          preis INTEGER \n",
    "    #)\"\"\")\n",
    "#bis jetzt keine errors weiter gehts mit den daten einfügen. INTEGER = ganze zahl wichtig\n",
    "    #kunden = [\n",
    "    #    (1, \"Anna Müllu\", \"Börlin\"),\n",
    "    #    (2, \"Olaf Scholz\", \"Hambörg\"),\n",
    "    #    (3, \"Lisa Wagner\", \"Munich\")\n",
    "    #]\n",
    "    #bestellung = [\n",
    "    #    (1, 1, 11-10-2024),\n",
    "    #    (2, 1, 15-11-2024),\n",
    "    #    (3, 2, 30-12-2024)\n",
    "    #]\n",
    "    #positionen = [\n",
    "     #   (1, 1, \"Tastatur\", 1, 45),\n",
    "      #  (2, 1, \"Muas\", 2, 25),\n",
    "      #  (3, 2, \"Monitor\", 1, 150),\n",
    "     #   (4, 3, \"USB-Kabel\", 3, 5),\n",
    "     #   (5, 3, \"Laptop-Ständer\", 1, 30)\n",
    "    #]\n",
    "    #m.executemany(\"INSERT INTO kunden VALUES (?, ?, ?)\", kunden)\n",
    "    #m.executemany(\"INSERT INTO bestellungen VALUES (?, ?, ?)\", bestellung)\n",
    "    #m.executemany(\"INSERT INTO bestellpositionen VALUES (?, ?, ?, ?, ?)\", positionen)\n",
    "#supi nun zum spassigen teil das programmieren schauen ob es wir hinbekommen.\n",
    "#so jetzt wollen wir alle produkte über join herausgeben dies ist natürlich noch schwer\n",
    "#aber kriegen wir schon hin. \n",
    "    m.execute(\"\"\"\n",
    "    SELECT kunden.name, bestellungen.datum \n",
    "    FROM bestellungen\n",
    "    JOIN kunden ON bestellungen.kunden_id = kunden.id \n",
    "    \"\"\")#nee oder junge ich kriege kinder über wo ist dieser verdammte fehler!!!!1111¨!!!\n",
    "    a = m.fetchall()\n",
    "    for b in a :\n",
    "        print(f\"{b[0]} hat bestellt am {b[1]}\")\n",
    "#der code ist richtig heurika!! auch wenn er nichts zurückgibt und ich weiss nicht wieso\n",
    "# der Grund war, dass oben m.executemany noch offen war und deswegen, hat es immer wieder die Daten \n",
    "# eingefügt und dann musste ich die Daten zuerst wieder rauslöschne und nachher es nochmals machen\n",
    "# und dann ging es.  "
   ]
  },
  {
   "cell_type": "code",
   "execution_count": 12,
   "id": "8e1eca19",
   "metadata": {},
   "outputs": [
    {
     "name": "stdout",
     "output_type": "stream",
     "text": [
      "Produkt Tastatur wurde 1mal zum preis 45.0 bestellt\n",
      "Produkt Muas wurde 2mal zum preis 25.0 bestellt\n",
      "Produkt Monitor wurde 1mal zum preis 150.0 bestellt\n",
      "Produkt USB-Kabel wurde 3mal zum preis 5.0 bestellt\n",
      "Produkt Laptop-Ständer wurde 1mal zum preis 30.0 bestellt\n"
     ]
    }
   ],
   "source": [
    "with sqlite3.connect('migros.db') as conn: \n",
    "    m = conn.cursor()\n",
    "    m.execute(\"\"\"\n",
    "    SELECT bestellpositionen.produkt, bestellpositionen.menge, bestellpositionen.preis,  bestellungen.datum\n",
    "    FROM bestellpositionen\n",
    "    JOIN bestellungen ON bestellpositionen.bestellung_id = bestellungen.id\n",
    "    \"\"\")\n",
    "    a = m.fetchall()\n",
    "    for b in a :\n",
    "        print(f\"Produkt {b[0]} wurde {b[1]}mal zum preis {b[2]} bestellt\")\n",
    "#Hier ging es darum herauszufinden, wie viel von was bestellt wurde und zu welchen Preis. "
   ]
  },
  {
   "cell_type": "code",
   "execution_count": 9,
   "id": "6ad5540b",
   "metadata": {},
   "outputs": [
    {
     "name": "stdout",
     "output_type": "stream",
     "text": [
      "Kunden: [(1, 'Anna Müllu', 'Börlin'), (2, 'Olaf Scholz', 'Hambörg'), (3, 'Lisa Wagner', 'Munich')]\n",
      "Bestellungen: [(1, 1, '-2023'), (2, 1, '-2020'), (3, 2, '-2006')]\n",
      "Bestellpositionen: [(1, 1, 'Tastatur', 1, 45.0), (2, 1, 'Muas', 2, 25.0), (3, 2, 'Monitor', 1, 150.0), (4, 3, 'USB-Kabel', 3, 5.0), (5, 3, 'Laptop-Ständer', 1, 30.0)]\n"
     ]
    }
   ],
   "source": [
    "with sqlite3.connect('migros.db') as conn: \n",
    "    m = conn.cursor()\n",
    "    m.execute(\"SELECT * FROM kunden\")\n",
    "    print(\"Kunden:\", m.fetchall())\n",
    "\n",
    "    m.execute(\"SELECT * FROM bestellungen\")\n",
    "    print(\"Bestellungen:\", m.fetchall())\n",
    "\n",
    "    m.execute(\"SELECT * FROM bestellpositionen\")\n",
    "    print(\"Bestellpositionen:\", m.fetchall())\n",
    "conn.close()\n",
    "#Für die Überprüfung ob etwas in der Datenbank drinnen ist, da es vorher nicht geklappt hat."
   ]
  },
  {
   "cell_type": "code",
   "execution_count": null,
   "id": "5310a5ac",
   "metadata": {},
   "outputs": [
    {
     "name": "stdout",
     "output_type": "stream",
     "text": [
      "Bestellung 1 hat einen Gesamtumsatz von 95.0 EUR\n",
      "Bestellung 2 hat einen Gesamtumsatz von 150.0 EUR\n",
      "Bestellung 3 hat einen Gesamtumsatz von 45.0 EUR\n"
     ]
    }
   ],
   "source": [
    "#Gib für jede Bestellung die Summe des Umsatzes (menge × preis) aus. \n",
    "# Hinweis: SUM(), GROUP BY nach Bestellung\n",
    "with sqlite3.connect('migros.db') as conn: \n",
    "    m = conn.cursor()\n",
    "    m.execute(\"\"\"\n",
    "    SELECT bestellpositionen.menge, bestellpositionen.preis, bestellpositionen.bestellung_id\n",
    "    FROM bestellpositionen\n",
    "    JOIN bestellungen ON bestellpositionen.bestellung_id = bestellungen.id\n",
    "    \"\"\")#dieser teil bräuchte ich gar nicht zu mache gut zu wissen. \n",
    "    m.execute(\"\"\"\n",
    "    SELECT bestellung_id, SUM(menge * preis) AS umsatz\n",
    "    FROM bestellpositionen\n",
    "    GROUP BY bestellung_id\n",
    "    \"\"\")\n",
    "    a = m.fetchall()\n",
    "    for b in a:\n",
    "        print(f\"Bestellung {b[0]} hat einen Gesamtumsatz von {b[1]} EUR\")\n"
   ]
  },
  {
   "cell_type": "code",
   "execution_count": null,
   "id": "7fccb4d6",
   "metadata": {},
   "outputs": [
    {
     "name": "stdout",
     "output_type": "stream",
     "text": [
      "(1, 245.0, 'Anna Müllu')\n",
      "(3, 45.0, 'Olaf Scholz')\n"
     ]
    }
   ],
   "source": [
    "with sqlite3.connect('migros.db') as conn: \n",
    "    m = conn.cursor()\n",
    "    m.execute(\"\"\" \n",
    "    SELECT bestellung_id, SUM(menge * preis) AS umsatz, kunden.name \n",
    "    FROM bestellpositionen\n",
    "    JOIN bestellungen ON bestellpositionen.bestellung_id = bestellungen.id\n",
    "    JOIN kunden ON bestellungen.kunden_id = kunden.id \n",
    "    GROUP BY kunden.id \n",
    "    \"\"\")\n",
    "    a = m.fetchall()\n",
    "    for b in a :\n",
    "        print(b)\n",
    "#Hier ging es darum zu testen, wer welche Bestellung gemacht hat und wie viel er insgesamt Ausgegeben hat.\n",
    "#Dies dann sortiert nach Kunden. "
   ]
  },
  {
   "cell_type": "code",
   "execution_count": null,
   "id": "73228f38",
   "metadata": {},
   "outputs": [
    {
     "name": "stdout",
     "output_type": "stream",
     "text": [
      "Anna Müllu - 245.0 - 3\n"
     ]
    }
   ],
   "source": [
    "with sqlite3.connect('migros.db') as conn :\n",
    "    m = conn.cursor()\n",
    "    m.execute(\"\"\"\n",
    "    SELECT kunden.name, SUM(bestellpositionen.menge * bestellpositionen.preis) AS umsatz, \n",
    "    COUNT(bestellungen.id) AS anzahl_bestellungen\n",
    "    FROM bestellpositionen\n",
    "    JOIN bestellungen ON bestellpositionen.bestellung_id = bestellungen.id\n",
    "    JOIN kunden ON bestellungen.kunden_id = kunden.id \n",
    "    GROUP BY kunden.id \n",
    "    HAVING SUM(menge * preis) > 100        \n",
    "    \"\"\")\n",
    "    a = m.fetchall()\n",
    "    for b in a :\n",
    "       print(f\"{b[0]} - {b[1]} - {b[2]}\")\n",
    "#so würde es richtig aussehen, wichtig ist immer, SELECT COUNT FROM JOIN GROUP HAVING\n",
    "#SQL ist ansich sehr simpel aber halt in pyhton deutlich schwerer als in sql selbst\n",
    "#du kannst bei sum eingeben was du berechnen möchtest von wo es wird besser\n",
    "#ein profi sind wir noch nicht aber es kommt mit der Zeit"
   ]
  },
  {
   "cell_type": "code",
   "execution_count": 21,
   "id": "cfacdc36",
   "metadata": {},
   "outputs": [],
   "source": [
    "#Im ersten Lernblock eine SQL Datenbank anlegen und diese nach werten \n",
    "#sortieren.\n",
    "#Ziel ist es meine eigene kleine Bibliotheke zu machen und diese dann zu verwalten.\n",
    "#Mit paar Kunden und Bücher und dem Ausleihedatum \n",
    "#dafür benötigen wir drei table paar Bücher, Namen, Datum sollte nicht so schwer werden. "
   ]
  },
  {
   "cell_type": "code",
   "execution_count": null,
   "id": "c76bfb95",
   "metadata": {},
   "outputs": [],
   "source": [
    "#Hier ging es darum eine kleine Bibliothek zu machen und zu schauen wer etwas ausgeliehen hat oder nicht.\n",
    "#An welchen Datum ausgeliehen wurde. \n",
    "import sqlite3\n",
    "with sqlite3.connect('bibliothek') as conn :\n",
    "    b = conn.cursor() \n",
    "    #b.execute(\"\"\"CREATE table IF NOT EXISTS leser(\n",
    "    #id INTEGER,\n",
    "    #name TEXT)\n",
    "    #\"\"\")\n",
    "\n",
    "    #b.execute(\"\"\"CREATE table IF NOT EXISTS bücher (\n",
    "    #id INTEGER,\n",
    "    #titel TEXT,\n",
    "    #autor TEXT) \n",
    "    #\"\"\")\n",
    "    #b.execute(\"\"\"CREATE TABLE IF NOT EXISTS ausleihen(\n",
    "    #id INTEGER,\n",
    "    #leser_id INTEGER,\n",
    "    #buch_id INTEGER,\n",
    "    #datum TEXT)\n",
    "    #\"\"\")\n",
    "    books = [\n",
    "    (1,  \"Python für Einsteiger\", \"Max Muster\"),\n",
    "    (2,  \"SQL Basics\",  \"Laura Beispiel\"),\n",
    "    ( 3,  \"Data Science 101\",  \"Sam Statistik\"),\n",
    "    (4, \"Visualisieren mit Power BI\",  \"Nina Grafik\")\n",
    "    ]\n",
    "    readers = [\n",
    "    ( 1, \"Anna\"),\n",
    "    ( 2, \"Ben\"),\n",
    "    ( 3, \"Clara\"),\n",
    "    ( 4, \"David\")\n",
    "    ]\n",
    "    loans = [\n",
    "    ( 1,  1,  2, \"2025-05-10\"),\n",
    "    ( 2,  1,  1, \"2025-05-12\"),\n",
    "    ( 3,  2,  3, \"2025-06-01\"),\n",
    "    ( 4,  2,  2, \"2025-06-03\"),\n",
    "    ( 5,  3,  4, \"2025-06-15\")\n",
    "    ]\n",
    "    b.executemany(\"INSERT INTO leser VALUES (?, ?)\", readers)\n",
    "    b.executemany(\"INSERT INTO bücher VALUES (?, ?, ?)\", books)\n",
    "    b.executemany(\"INSERT INTO ausleihen VALUES (?, ?, ?, ?)\", loans)\n",
    "    "
   ]
  },
  {
   "cell_type": "code",
   "execution_count": null,
   "id": "700486a5",
   "metadata": {},
   "outputs": [
    {
     "name": "stdout",
     "output_type": "stream",
     "text": [
      "Anna - 2025-05-10 \n",
      "Ben - 2025-06-01 \n",
      "Clara - 2025-06-15 \n"
     ]
    }
   ],
   "source": [
    "#Jetzt kommen wir zum programmieren und sortieren der Daten. \n",
    "with sqlite3.connect('bibliothek') as conn :\n",
    "    b = conn.cursor() \n",
    "    b.execute(\"\"\"SELECT leser.name, ausleihen.datum, ausleihen.leser_id\n",
    "    FROM ausleihen\n",
    "    JOIN leser ON ausleihen.leser_id = leser.id\n",
    "    GROUP BY leser.name           \n",
    "    \"\"\")\n",
    "    m = b.fetchall() \n",
    "    for a in m :\n",
    "        print(f\"{a[0]} - {a[1]} \")\n",
    "#im select is vermutlich der fehler die frage ist wie finde ich den heraus.\n",
    "#Das Problem ist ich habe keine daten bezüglich häufigkeit und daher kann ich \n",
    "#nicht printen wer welches buch am häufigsten oder welches buch am häufigsten ausgelehnt wurde. "
   ]
  },
  {
   "cell_type": "code",
   "execution_count": null,
   "id": "c79bae11",
   "metadata": {},
   "outputs": [
    {
     "name": "stdout",
     "output_type": "stream",
     "text": [
      "Anna - 2025-05-10\n",
      "Anna - 2025-05-12\n",
      "Ben - 2025-06-01\n",
      "Ben - 2025-06-03\n",
      "Clara - 2025-06-15\n"
     ]
    }
   ],
   "source": [
    "with sqlite3.connect('bibliothek') as conn :\n",
    "    b = conn.cursor()\n",
    "    b.execute(\"\"\"SELECT leser.name, ausleihen.datum, ausleihen.leser_id\n",
    "    FROM ausleihen\n",
    "    LEFT JOIN leser ON ausleihen.leser_id = leser.id\n",
    "    \"\"\")\n",
    "    m = b.fetchall()\n",
    "    for a in m :\n",
    "        print(f\"{a[0]} - {a[1]}\")\n",
    "#so würde man sehen wann alles ein buch ausgeliehen wurde \n",
    "#jetzt kommen wir zum wer kein Buch ausgeliehen hat."
   ]
  },
  {
   "cell_type": "code",
   "execution_count": null,
   "id": "dbb9fca7",
   "metadata": {},
   "outputs": [
    {
     "name": "stdout",
     "output_type": "stream",
     "text": [
      "[(None, None, 'David')]\n"
     ]
    }
   ],
   "source": [
    "with sqlite3.connect('bibliothek') as conn :\n",
    "    b = conn.cursor()\n",
    "    b.execute(\"\"\"SELECT  ausleihen.datum, ausleihen.leser_id, leser.name\n",
    "        FROM leser\n",
    "        LEFT JOIN ausleihen ON leser.id = ausleihen.leser_id \n",
    "        WHERE ausleihen.leser_id IS NULL\n",
    "        \"\"\")\n",
    "    m = b.fetchall()\n",
    "    print(m)\n",
    "#Wichtig ist hier was willst du im left join haben und was muss nach from kommen \n",
    "#merke dir was im from ist ist auf der linken seite der tabelle sozusagen \n",
    "#klar kann man es testen aber trotzdem sollte man es wissen \n"
   ]
  },
  {
   "cell_type": "code",
   "execution_count": null,
   "id": "324e80d1",
   "metadata": {},
   "outputs": [],
   "source": [
    "#Abschliessend lässt sich noch sagen, dass wir viel Lernen konnten und uns nun ein wenig besser zurecht\n",
    "#finden in SQLite3 in Pyhton, wobei man sagen muss direkt in SQL zu programmieren is deutlich einfacher\n",
    "#wegen der Syntaxe, hier muss man gefühlt mehr beachten. \n",
    "#Oben habe ich zwei kleine Datenbanken eingefügt einmal als Bibliothek und einmal als Shop.\n",
    "#Ich konnte vieles durch Videos und KI üben und lernen und bei Fehler und Unklarheiten, diese\n",
    "#durch Rückfrage klären und weiter nachdenken, bis ich zur Lösung kam, somit kann ich ein\n",
    "#ideales Lernumfeld kreieren und gut Fortschritte machen.\n",
    "#Dies ist mein erstes kleines Projekt für Git gewesen. =) "
   ]
  }
 ],
 "metadata": {
  "kernelspec": {
   "display_name": "Python 3",
   "language": "python",
   "name": "python3"
  },
  "language_info": {
   "codemirror_mode": {
    "name": "ipython",
    "version": 3
   },
   "file_extension": ".py",
   "mimetype": "text/x-python",
   "name": "python",
   "nbconvert_exporter": "python",
   "pygments_lexer": "ipython3",
   "version": "3.13.2"
  }
 },
 "nbformat": 4,
 "nbformat_minor": 5
}
